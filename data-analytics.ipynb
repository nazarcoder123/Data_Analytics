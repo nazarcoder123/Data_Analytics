{
 "cells": [
  {
   "cell_type": "code",
   "execution_count": 1,
   "id": "764769cf",
   "metadata": {
    "execution": {
     "iopub.execute_input": "2023-07-22T06:08:45.424291Z",
     "iopub.status.busy": "2023-07-22T06:08:45.423810Z",
     "iopub.status.idle": "2023-07-22T06:08:47.027012Z",
     "shell.execute_reply": "2023-07-22T06:08:47.025410Z"
    },
    "papermill": {
     "duration": 1.615746,
     "end_time": "2023-07-22T06:08:47.030245",
     "exception": false,
     "start_time": "2023-07-22T06:08:45.414499",
     "status": "completed"
    },
    "tags": []
   },
   "outputs": [
    {
     "name": "stderr",
     "output_type": "stream",
     "text": [
      "/opt/conda/lib/python3.10/site-packages/scipy/__init__.py:146: UserWarning: A NumPy version >=1.16.5 and <1.23.0 is required for this version of SciPy (detected version 1.23.5\n",
      "  warnings.warn(f\"A NumPy version >={np_minversion} and <{np_maxversion}\"\n"
     ]
    }
   ],
   "source": [
    "import seaborn as sns\n",
    "import matplotlib.pyplot as plt\n",
    "import seaborn as sns\n",
    "import numpy as np\n",
    "import pandas as pd"
   ]
  },
  {
   "cell_type": "code",
   "execution_count": 2,
   "id": "4a697fb6",
   "metadata": {
    "execution": {
     "iopub.execute_input": "2023-07-22T06:08:47.045637Z",
     "iopub.status.busy": "2023-07-22T06:08:47.045136Z",
     "iopub.status.idle": "2023-07-22T06:08:47.655321Z",
     "shell.execute_reply": "2023-07-22T06:08:47.653564Z"
    },
    "papermill": {
     "duration": 0.622524,
     "end_time": "2023-07-22T06:08:47.659225",
     "exception": false,
     "start_time": "2023-07-22T06:08:47.036701",
     "status": "completed"
    },
    "tags": []
   },
   "outputs": [],
   "source": [
    "# Load the data\n",
    "df = pd.read_excel(\"/kaggle/input/omnify-data-analytics/Omnify-Analyst-Intership-Task.xlsx\")\n",
    "\n",
    "# Preprocess 'Cost ($)' and 'Payment ($)' columns\n",
    "df['Cost ($)'] = df['Cost ($)'].replace({'\\$': '', ',': ''}, regex=True).astype(float)\n",
    "df['Payment ($)'] = df['Payment ($)'].replace({'\\$': '', ',': ''}, regex=True).astype(float)\n",
    "\n",
    "# Calculate the 'Returns %' column and handle missing values\n",
    "df['Returns %'] = (df['Payment ($)'] / df['Cost ($)']) * 100\n",
    "df['Returns %'].fillna(0, inplace=True)"
   ]
  },
  {
   "cell_type": "markdown",
   "id": "5a7c35cd",
   "metadata": {
    "papermill": {
     "duration": 0.005668,
     "end_time": "2023-07-22T06:08:47.671170",
     "exception": false,
     "start_time": "2023-07-22T06:08:47.665502",
     "status": "completed"
    },
    "tags": []
   },
   "source": [
    "## Create a combined report with all key metrics (esp: Spends and Returns %) in a weekly and monthly format. Decide the number of data fields you would like to showcase here"
   ]
  },
  {
   "cell_type": "code",
   "execution_count": 3,
   "id": "58dbc087",
   "metadata": {
    "execution": {
     "iopub.execute_input": "2023-07-22T06:08:47.685251Z",
     "iopub.status.busy": "2023-07-22T06:08:47.684404Z",
     "iopub.status.idle": "2023-07-22T06:08:47.727834Z",
     "shell.execute_reply": "2023-07-22T06:08:47.726536Z"
    },
    "papermill": {
     "duration": 0.054635,
     "end_time": "2023-07-22T06:08:47.731560",
     "exception": false,
     "start_time": "2023-07-22T06:08:47.676925",
     "status": "completed"
    },
    "tags": []
   },
   "outputs": [],
   "source": [
    "# Weekly report\n",
    "weekly_report = df.resample('W', on='Week').agg({\n",
    "    'Cost ($)': 'sum',\n",
    "    'Payment ($)': 'sum',\n",
    "    'Clicks': 'sum',\n",
    "    'Impressions': 'sum',\n",
    "    'Leads': 'sum',\n",
    "    'Prospects': 'sum',\n",
    "    'Returns %': 'mean'\n",
    "}).reset_index()\n",
    "\n",
    "# Monthly report\n",
    "monthly_report = df.resample('M', on='Week').agg({\n",
    "    'Cost ($)': 'sum',\n",
    "    'Payment ($)': 'sum',\n",
    "    'Clicks': 'sum',\n",
    "    'Impressions': 'sum',\n",
    "    'Leads': 'sum',\n",
    "    'Prospects': 'sum',\n",
    "    'Returns %': 'mean'\n",
    "}).reset_index()"
   ]
  },
  {
   "cell_type": "code",
   "execution_count": 4,
   "id": "efe25bf4",
   "metadata": {
    "execution": {
     "iopub.execute_input": "2023-07-22T06:08:47.746365Z",
     "iopub.status.busy": "2023-07-22T06:08:47.745931Z",
     "iopub.status.idle": "2023-07-22T06:08:47.771838Z",
     "shell.execute_reply": "2023-07-22T06:08:47.770574Z"
    },
    "papermill": {
     "duration": 0.036685,
     "end_time": "2023-07-22T06:08:47.774732",
     "exception": false,
     "start_time": "2023-07-22T06:08:47.738047",
     "status": "completed"
    },
    "tags": []
   },
   "outputs": [
    {
     "data": {
      "text/html": [
       "<div>\n",
       "<style scoped>\n",
       "    .dataframe tbody tr th:only-of-type {\n",
       "        vertical-align: middle;\n",
       "    }\n",
       "\n",
       "    .dataframe tbody tr th {\n",
       "        vertical-align: top;\n",
       "    }\n",
       "\n",
       "    .dataframe thead th {\n",
       "        text-align: right;\n",
       "    }\n",
       "</style>\n",
       "<table border=\"1\" class=\"dataframe\">\n",
       "  <thead>\n",
       "    <tr style=\"text-align: right;\">\n",
       "      <th></th>\n",
       "      <th>Week</th>\n",
       "      <th>Cost ($)</th>\n",
       "      <th>Payment ($)</th>\n",
       "      <th>Clicks</th>\n",
       "      <th>Impressions</th>\n",
       "      <th>Leads</th>\n",
       "      <th>Prospects</th>\n",
       "      <th>Returns %</th>\n",
       "    </tr>\n",
       "  </thead>\n",
       "  <tbody>\n",
       "    <tr>\n",
       "      <th>0</th>\n",
       "      <td>2021-01-31</td>\n",
       "      <td>154.79</td>\n",
       "      <td>2168.0</td>\n",
       "      <td>15</td>\n",
       "      <td>319</td>\n",
       "      <td>1</td>\n",
       "      <td>2</td>\n",
       "      <td>192.190347</td>\n",
       "    </tr>\n",
       "    <tr>\n",
       "      <th>1</th>\n",
       "      <td>2021-02-07</td>\n",
       "      <td>192.58</td>\n",
       "      <td>0.0</td>\n",
       "      <td>19</td>\n",
       "      <td>373</td>\n",
       "      <td>0</td>\n",
       "      <td>1</td>\n",
       "      <td>0.000000</td>\n",
       "    </tr>\n",
       "    <tr>\n",
       "      <th>2</th>\n",
       "      <td>2021-02-14</td>\n",
       "      <td>216.13</td>\n",
       "      <td>980.0</td>\n",
       "      <td>21</td>\n",
       "      <td>364</td>\n",
       "      <td>0</td>\n",
       "      <td>1</td>\n",
       "      <td>325.311203</td>\n",
       "    </tr>\n",
       "    <tr>\n",
       "      <th>3</th>\n",
       "      <td>2021-02-21</td>\n",
       "      <td>235.30</td>\n",
       "      <td>1788.0</td>\n",
       "      <td>35</td>\n",
       "      <td>671</td>\n",
       "      <td>0</td>\n",
       "      <td>2</td>\n",
       "      <td>339.272500</td>\n",
       "    </tr>\n",
       "    <tr>\n",
       "      <th>4</th>\n",
       "      <td>2021-02-28</td>\n",
       "      <td>190.90</td>\n",
       "      <td>0.0</td>\n",
       "      <td>22</td>\n",
       "      <td>478</td>\n",
       "      <td>0</td>\n",
       "      <td>1</td>\n",
       "      <td>0.000000</td>\n",
       "    </tr>\n",
       "    <tr>\n",
       "      <th>5</th>\n",
       "      <td>2021-03-07</td>\n",
       "      <td>141.40</td>\n",
       "      <td>980.0</td>\n",
       "      <td>14</td>\n",
       "      <td>407</td>\n",
       "      <td>0</td>\n",
       "      <td>1</td>\n",
       "      <td>85.888065</td>\n",
       "    </tr>\n",
       "    <tr>\n",
       "      <th>6</th>\n",
       "      <td>2021-03-14</td>\n",
       "      <td>258.20</td>\n",
       "      <td>0.0</td>\n",
       "      <td>34</td>\n",
       "      <td>503</td>\n",
       "      <td>3</td>\n",
       "      <td>1</td>\n",
       "      <td>0.000000</td>\n",
       "    </tr>\n",
       "    <tr>\n",
       "      <th>7</th>\n",
       "      <td>2021-03-21</td>\n",
       "      <td>184.36</td>\n",
       "      <td>0.0</td>\n",
       "      <td>22</td>\n",
       "      <td>468</td>\n",
       "      <td>1</td>\n",
       "      <td>0</td>\n",
       "      <td>0.000000</td>\n",
       "    </tr>\n",
       "    <tr>\n",
       "      <th>8</th>\n",
       "      <td>2021-03-28</td>\n",
       "      <td>308.73</td>\n",
       "      <td>2388.0</td>\n",
       "      <td>46</td>\n",
       "      <td>659</td>\n",
       "      <td>1</td>\n",
       "      <td>4</td>\n",
       "      <td>140.050437</td>\n",
       "    </tr>\n",
       "    <tr>\n",
       "      <th>9</th>\n",
       "      <td>2021-04-04</td>\n",
       "      <td>172.11</td>\n",
       "      <td>0.0</td>\n",
       "      <td>39</td>\n",
       "      <td>586</td>\n",
       "      <td>0</td>\n",
       "      <td>0</td>\n",
       "      <td>0.000000</td>\n",
       "    </tr>\n",
       "    <tr>\n",
       "      <th>10</th>\n",
       "      <td>2021-04-11</td>\n",
       "      <td>176.96</td>\n",
       "      <td>0.0</td>\n",
       "      <td>29</td>\n",
       "      <td>461</td>\n",
       "      <td>2</td>\n",
       "      <td>0</td>\n",
       "      <td>0.000000</td>\n",
       "    </tr>\n",
       "    <tr>\n",
       "      <th>11</th>\n",
       "      <td>2021-04-18</td>\n",
       "      <td>137.21</td>\n",
       "      <td>2388.0</td>\n",
       "      <td>24</td>\n",
       "      <td>324</td>\n",
       "      <td>1</td>\n",
       "      <td>4</td>\n",
       "      <td>607.942974</td>\n",
       "    </tr>\n",
       "    <tr>\n",
       "      <th>12</th>\n",
       "      <td>2021-04-25</td>\n",
       "      <td>87.38</td>\n",
       "      <td>0.0</td>\n",
       "      <td>19</td>\n",
       "      <td>328</td>\n",
       "      <td>1</td>\n",
       "      <td>1</td>\n",
       "      <td>0.000000</td>\n",
       "    </tr>\n",
       "    <tr>\n",
       "      <th>13</th>\n",
       "      <td>2021-05-02</td>\n",
       "      <td>103.26</td>\n",
       "      <td>0.0</td>\n",
       "      <td>17</td>\n",
       "      <td>487</td>\n",
       "      <td>1</td>\n",
       "      <td>0</td>\n",
       "      <td>0.000000</td>\n",
       "    </tr>\n",
       "    <tr>\n",
       "      <th>14</th>\n",
       "      <td>2021-05-09</td>\n",
       "      <td>229.37</td>\n",
       "      <td>1188.0</td>\n",
       "      <td>31</td>\n",
       "      <td>537</td>\n",
       "      <td>1</td>\n",
       "      <td>3</td>\n",
       "      <td>62.390370</td>\n",
       "    </tr>\n",
       "  </tbody>\n",
       "</table>\n",
       "</div>"
      ],
      "text/plain": [
       "         Week  Cost ($)  Payment ($)  Clicks  Impressions  Leads  Prospects  \\\n",
       "0  2021-01-31    154.79       2168.0      15          319      1          2   \n",
       "1  2021-02-07    192.58          0.0      19          373      0          1   \n",
       "2  2021-02-14    216.13        980.0      21          364      0          1   \n",
       "3  2021-02-21    235.30       1788.0      35          671      0          2   \n",
       "4  2021-02-28    190.90          0.0      22          478      0          1   \n",
       "5  2021-03-07    141.40        980.0      14          407      0          1   \n",
       "6  2021-03-14    258.20          0.0      34          503      3          1   \n",
       "7  2021-03-21    184.36          0.0      22          468      1          0   \n",
       "8  2021-03-28    308.73       2388.0      46          659      1          4   \n",
       "9  2021-04-04    172.11          0.0      39          586      0          0   \n",
       "10 2021-04-11    176.96          0.0      29          461      2          0   \n",
       "11 2021-04-18    137.21       2388.0      24          324      1          4   \n",
       "12 2021-04-25     87.38          0.0      19          328      1          1   \n",
       "13 2021-05-02    103.26          0.0      17          487      1          0   \n",
       "14 2021-05-09    229.37       1188.0      31          537      1          3   \n",
       "\n",
       "     Returns %  \n",
       "0   192.190347  \n",
       "1     0.000000  \n",
       "2   325.311203  \n",
       "3   339.272500  \n",
       "4     0.000000  \n",
       "5    85.888065  \n",
       "6     0.000000  \n",
       "7     0.000000  \n",
       "8   140.050437  \n",
       "9     0.000000  \n",
       "10    0.000000  \n",
       "11  607.942974  \n",
       "12    0.000000  \n",
       "13    0.000000  \n",
       "14   62.390370  "
      ]
     },
     "execution_count": 4,
     "metadata": {},
     "output_type": "execute_result"
    }
   ],
   "source": [
    "weekly_report"
   ]
  },
  {
   "cell_type": "code",
   "execution_count": 5,
   "id": "86fa8a70",
   "metadata": {
    "execution": {
     "iopub.execute_input": "2023-07-22T06:08:47.790171Z",
     "iopub.status.busy": "2023-07-22T06:08:47.789772Z",
     "iopub.status.idle": "2023-07-22T06:08:47.805416Z",
     "shell.execute_reply": "2023-07-22T06:08:47.804100Z"
    },
    "papermill": {
     "duration": 0.025997,
     "end_time": "2023-07-22T06:08:47.807743",
     "exception": false,
     "start_time": "2023-07-22T06:08:47.781746",
     "status": "completed"
    },
    "tags": []
   },
   "outputs": [
    {
     "data": {
      "text/html": [
       "<div>\n",
       "<style scoped>\n",
       "    .dataframe tbody tr th:only-of-type {\n",
       "        vertical-align: middle;\n",
       "    }\n",
       "\n",
       "    .dataframe tbody tr th {\n",
       "        vertical-align: top;\n",
       "    }\n",
       "\n",
       "    .dataframe thead th {\n",
       "        text-align: right;\n",
       "    }\n",
       "</style>\n",
       "<table border=\"1\" class=\"dataframe\">\n",
       "  <thead>\n",
       "    <tr style=\"text-align: right;\">\n",
       "      <th></th>\n",
       "      <th>Week</th>\n",
       "      <th>Cost ($)</th>\n",
       "      <th>Payment ($)</th>\n",
       "      <th>Clicks</th>\n",
       "      <th>Impressions</th>\n",
       "      <th>Leads</th>\n",
       "      <th>Prospects</th>\n",
       "      <th>Returns %</th>\n",
       "    </tr>\n",
       "  </thead>\n",
       "  <tbody>\n",
       "    <tr>\n",
       "      <th>0</th>\n",
       "      <td>2021-01-31</td>\n",
       "      <td>154.79</td>\n",
       "      <td>2168.0</td>\n",
       "      <td>15</td>\n",
       "      <td>319</td>\n",
       "      <td>1</td>\n",
       "      <td>2</td>\n",
       "      <td>192.190347</td>\n",
       "    </tr>\n",
       "    <tr>\n",
       "      <th>1</th>\n",
       "      <td>2021-02-28</td>\n",
       "      <td>834.91</td>\n",
       "      <td>2768.0</td>\n",
       "      <td>97</td>\n",
       "      <td>1886</td>\n",
       "      <td>0</td>\n",
       "      <td>5</td>\n",
       "      <td>159.741922</td>\n",
       "    </tr>\n",
       "    <tr>\n",
       "      <th>2</th>\n",
       "      <td>2021-03-31</td>\n",
       "      <td>1064.80</td>\n",
       "      <td>3368.0</td>\n",
       "      <td>155</td>\n",
       "      <td>2623</td>\n",
       "      <td>5</td>\n",
       "      <td>6</td>\n",
       "      <td>49.171476</td>\n",
       "    </tr>\n",
       "    <tr>\n",
       "      <th>3</th>\n",
       "      <td>2021-04-30</td>\n",
       "      <td>504.81</td>\n",
       "      <td>2388.0</td>\n",
       "      <td>89</td>\n",
       "      <td>1600</td>\n",
       "      <td>5</td>\n",
       "      <td>5</td>\n",
       "      <td>125.349067</td>\n",
       "    </tr>\n",
       "    <tr>\n",
       "      <th>4</th>\n",
       "      <td>2021-05-31</td>\n",
       "      <td>229.37</td>\n",
       "      <td>1188.0</td>\n",
       "      <td>31</td>\n",
       "      <td>537</td>\n",
       "      <td>1</td>\n",
       "      <td>3</td>\n",
       "      <td>62.390370</td>\n",
       "    </tr>\n",
       "  </tbody>\n",
       "</table>\n",
       "</div>"
      ],
      "text/plain": [
       "        Week  Cost ($)  Payment ($)  Clicks  Impressions  Leads  Prospects  \\\n",
       "0 2021-01-31    154.79       2168.0      15          319      1          2   \n",
       "1 2021-02-28    834.91       2768.0      97         1886      0          5   \n",
       "2 2021-03-31   1064.80       3368.0     155         2623      5          6   \n",
       "3 2021-04-30    504.81       2388.0      89         1600      5          5   \n",
       "4 2021-05-31    229.37       1188.0      31          537      1          3   \n",
       "\n",
       "    Returns %  \n",
       "0  192.190347  \n",
       "1  159.741922  \n",
       "2   49.171476  \n",
       "3  125.349067  \n",
       "4   62.390370  "
      ]
     },
     "execution_count": 5,
     "metadata": {},
     "output_type": "execute_result"
    }
   ],
   "source": [
    "monthly_report"
   ]
  },
  {
   "cell_type": "markdown",
   "id": "940c5874",
   "metadata": {
    "papermill": {
     "duration": 0.006268,
     "end_time": "2023-07-22T06:08:47.820591",
     "exception": false,
     "start_time": "2023-07-22T06:08:47.814323",
     "status": "completed"
    },
    "tags": []
   },
   "source": [
    "## Which is the most profitable channel"
   ]
  },
  {
   "cell_type": "code",
   "execution_count": 6,
   "id": "ac7f667a",
   "metadata": {
    "execution": {
     "iopub.execute_input": "2023-07-22T06:08:47.836535Z",
     "iopub.status.busy": "2023-07-22T06:08:47.835846Z",
     "iopub.status.idle": "2023-07-22T06:08:47.845858Z",
     "shell.execute_reply": "2023-07-22T06:08:47.844895Z"
    },
    "papermill": {
     "duration": 0.021405,
     "end_time": "2023-07-22T06:08:47.848371",
     "exception": false,
     "start_time": "2023-07-22T06:08:47.826966",
     "status": "completed"
    },
    "tags": []
   },
   "outputs": [],
   "source": [
    "most_profitable_channel = df.groupby('Campaign')['Returns %'].mean().idxmax()"
   ]
  },
  {
   "cell_type": "code",
   "execution_count": 7,
   "id": "b337e615",
   "metadata": {
    "execution": {
     "iopub.execute_input": "2023-07-22T06:08:47.864521Z",
     "iopub.status.busy": "2023-07-22T06:08:47.863806Z",
     "iopub.status.idle": "2023-07-22T06:08:47.869749Z",
     "shell.execute_reply": "2023-07-22T06:08:47.868305Z"
    },
    "papermill": {
     "duration": 0.017025,
     "end_time": "2023-07-22T06:08:47.872403",
     "exception": false,
     "start_time": "2023-07-22T06:08:47.855378",
     "status": "completed"
    },
    "tags": []
   },
   "outputs": [
    {
     "name": "stdout",
     "output_type": "stream",
     "text": [
      "The most_profitable_channel: EK_Generic_Tri-Tok_Reservation\n"
     ]
    }
   ],
   "source": [
    "print(\"The most_profitable_channel:\",most_profitable_channel)"
   ]
  },
  {
   "cell_type": "markdown",
   "id": "a9b2e3cc",
   "metadata": {
    "papermill": {
     "duration": 0.006266,
     "end_time": "2023-07-22T06:08:47.885235",
     "exception": false,
     "start_time": "2023-07-22T06:08:47.878969",
     "status": "completed"
    },
    "tags": []
   },
   "source": [
    "## Which category/keyword is the most profitable"
   ]
  },
  {
   "cell_type": "code",
   "execution_count": 8,
   "id": "24b254cf",
   "metadata": {
    "execution": {
     "iopub.execute_input": "2023-07-22T06:08:47.903255Z",
     "iopub.status.busy": "2023-07-22T06:08:47.902818Z",
     "iopub.status.idle": "2023-07-22T06:08:47.910655Z",
     "shell.execute_reply": "2023-07-22T06:08:47.909321Z"
    },
    "papermill": {
     "duration": 0.020445,
     "end_time": "2023-07-22T06:08:47.913649",
     "exception": false,
     "start_time": "2023-07-22T06:08:47.893204",
     "status": "completed"
    },
    "tags": []
   },
   "outputs": [],
   "source": [
    "most_profitable_keyword = df.groupby('Search Keyword')['Returns %'].mean().idxmax()"
   ]
  },
  {
   "cell_type": "code",
   "execution_count": 9,
   "id": "f6ce1a1a",
   "metadata": {
    "execution": {
     "iopub.execute_input": "2023-07-22T06:08:47.929820Z",
     "iopub.status.busy": "2023-07-22T06:08:47.928902Z",
     "iopub.status.idle": "2023-07-22T06:08:47.934915Z",
     "shell.execute_reply": "2023-07-22T06:08:47.933491Z"
    },
    "papermill": {
     "duration": 0.01716,
     "end_time": "2023-07-22T06:08:47.937660",
     "exception": false,
     "start_time": "2023-07-22T06:08:47.920500",
     "status": "completed"
    },
    "tags": []
   },
   "outputs": [
    {
     "name": "stdout",
     "output_type": "stream",
     "text": [
      "The category keyword which is the most profitable is: reservation management system\n"
     ]
    }
   ],
   "source": [
    "print(\"The category keyword which is the most profitable is:\",most_profitable_keyword)"
   ]
  },
  {
   "cell_type": "markdown",
   "id": "10d1f7bf",
   "metadata": {
    "papermill": {
     "duration": 0.006304,
     "end_time": "2023-07-22T06:08:47.950679",
     "exception": false,
     "start_time": "2023-07-22T06:08:47.944375",
     "status": "completed"
    },
    "tags": []
   },
   "source": [
    "## Look for insights by analyzing data points on time series graphs"
   ]
  },
  {
   "cell_type": "code",
   "execution_count": 10,
   "id": "9bd2c5de",
   "metadata": {
    "execution": {
     "iopub.execute_input": "2023-07-22T06:08:47.965679Z",
     "iopub.status.busy": "2023-07-22T06:08:47.965257Z",
     "iopub.status.idle": "2023-07-22T06:08:48.884964Z",
     "shell.execute_reply": "2023-07-22T06:08:48.884020Z"
    },
    "papermill": {
     "duration": 0.929863,
     "end_time": "2023-07-22T06:08:48.887081",
     "exception": false,
     "start_time": "2023-07-22T06:08:47.957218",
     "status": "completed"
    },
    "tags": []
   },
   "outputs": [
    {
     "data": {
      "image/png": "[encoded data removed]",
      "text/plain": [
       "<Figure size 1200x600 with 1 Axes>"
      ]
     },
     "metadata": {},
     "output_type": "display_data"
    },
    {
     "data": {
      "image/png": "[encoded data removed]",
      "text/plain": [
       "<Figure size 1200x600 with 1 Axes>"
      ]
     },
     "metadata": {},
     "output_type": "display_data"
    }
   ],
   "source": [
    "# Time series graph for weekly Cost and Payment\n",
    "plt.figure(figsize=(12, 6))\n",
    "plt.plot(weekly_report['Week'], weekly_report['Cost ($)'], label='Cost ($)')\n",
    "plt.plot(weekly_report['Week'], weekly_report['Payment ($)'], label='Payment ($)')\n",
    "plt.title('Weekly Cost and Payment')\n",
    "plt.xlabel('Week')\n",
    "plt.ylabel('Amount ($)')\n",
    "plt.legend()\n",
    "plt.show()\n",
    "\n",
    "# Time series graph for monthly Returns %\n",
    "plt.figure(figsize=(12, 6))\n",
    "plt.plot(monthly_report['Week'], monthly_report['Returns %'], label='Returns %')\n",
    "plt.title('Monthly Returns %')\n",
    "plt.xlabel('Month')\n",
    "plt.ylabel('Returns %')\n",
    "plt.legend()\n",
    "plt.show()"
   ]
  },
  {
   "cell_type": "markdown",
   "id": "d3264be5",
   "metadata": {
    "papermill": {
     "duration": 0.008945,
     "end_time": "2023-07-22T06:08:48.904691",
     "exception": false,
     "start_time": "2023-07-22T06:08:48.895746",
     "status": "completed"
    },
    "tags": []
   },
   "source": [
    "## Analyse the Impact of geography"
   ]
  },
  {
   "cell_type": "code",
   "execution_count": 11,
   "id": "db463ab2",
   "metadata": {
    "execution": {
     "iopub.execute_input": "2023-07-22T06:08:48.924721Z",
     "iopub.status.busy": "2023-07-22T06:08:48.923582Z",
     "iopub.status.idle": "2023-07-22T06:08:48.936830Z",
     "shell.execute_reply": "2023-07-22T06:08:48.935590Z"
    },
    "papermill": {
     "duration": 0.026141,
     "end_time": "2023-07-22T06:08:48.939370",
     "exception": false,
     "start_time": "2023-07-22T06:08:48.913229",
     "status": "completed"
    },
    "tags": []
   },
   "outputs": [],
   "source": [
    "geography_analysis = df.groupby('Country').agg({\n",
    "    'Cost ($)': 'sum',\n",
    "    'Payment ($)': 'sum',\n",
    "    'Clicks': 'sum',\n",
    "    'Impressions': 'sum',\n",
    "    'Leads': 'sum',\n",
    "    'Prospects': 'sum',\n",
    "    'Returns %': 'mean',\n",
    "}).reset_index()"
   ]
  },
  {
   "cell_type": "code",
   "execution_count": 12,
   "id": "04b4b0d8",
   "metadata": {
    "execution": {
     "iopub.execute_input": "2023-07-22T06:08:48.960652Z",
     "iopub.status.busy": "2023-07-22T06:08:48.959915Z",
     "iopub.status.idle": "2023-07-22T06:08:48.974044Z",
     "shell.execute_reply": "2023-07-22T06:08:48.972860Z"
    },
    "papermill": {
     "duration": 0.027976,
     "end_time": "2023-07-22T06:08:48.976588",
     "exception": false,
     "start_time": "2023-07-22T06:08:48.948612",
     "status": "completed"
    },
    "tags": []
   },
   "outputs": [
    {
     "data": {
      "text/html": [
       "<div>\n",
       "<style scoped>\n",
       "    .dataframe tbody tr th:only-of-type {\n",
       "        vertical-align: middle;\n",
       "    }\n",
       "\n",
       "    .dataframe tbody tr th {\n",
       "        vertical-align: top;\n",
       "    }\n",
       "\n",
       "    .dataframe thead th {\n",
       "        text-align: right;\n",
       "    }\n",
       "</style>\n",
       "<table border=\"1\" class=\"dataframe\">\n",
       "  <thead>\n",
       "    <tr style=\"text-align: right;\">\n",
       "      <th></th>\n",
       "      <th>Country</th>\n",
       "      <th>Cost ($)</th>\n",
       "      <th>Payment ($)</th>\n",
       "      <th>Clicks</th>\n",
       "      <th>Impressions</th>\n",
       "      <th>Leads</th>\n",
       "      <th>Prospects</th>\n",
       "      <th>Returns %</th>\n",
       "    </tr>\n",
       "  </thead>\n",
       "  <tbody>\n",
       "    <tr>\n",
       "      <th>0</th>\n",
       "      <td>USA</td>\n",
       "      <td>2788.68</td>\n",
       "      <td>11880.0</td>\n",
       "      <td>387</td>\n",
       "      <td>6965</td>\n",
       "      <td>12</td>\n",
       "      <td>21</td>\n",
       "      <td>109.011447</td>\n",
       "    </tr>\n",
       "  </tbody>\n",
       "</table>\n",
       "</div>"
      ],
      "text/plain": [
       "  Country  Cost ($)  Payment ($)  Clicks  Impressions  Leads  Prospects  \\\n",
       "0     USA   2788.68      11880.0     387         6965     12         21   \n",
       "\n",
       "    Returns %  \n",
       "0  109.011447  "
      ]
     },
     "execution_count": 12,
     "metadata": {},
     "output_type": "execute_result"
    }
   ],
   "source": [
    "geography_analysis"
   ]
  }
 ],
 "metadata": {
  "kernelspec": {
   "display_name": "Python 3",
   "language": "python",
   "name": "python3"
  },
  "language_info": {
   "codemirror_mode": {
    "name": "ipython",
    "version": 3
   },
   "file_extension": ".py",
   "mimetype": "text/x-python",
   "name": "python",
   "nbconvert_exporter": "python",
   "pygments_lexer": "ipython3",
   "version": "3.10.12"
  },
  "papermill": {
   "default_parameters": {},
   "duration": 17.022028,
   "end_time": "2023-07-22T06:08:50.010145",
   "environment_variables": {},
   "exception": null,
   "input_path": "__notebook__.ipynb",
   "output_path": "__notebook__.ipynb",
   "parameters": {},
   "start_time": "2023-07-22T06:08:32.988117",
   "version": "2.4.0"
  }
 },
 "nbformat": 4,
 "nbformat_minor": 5
}
